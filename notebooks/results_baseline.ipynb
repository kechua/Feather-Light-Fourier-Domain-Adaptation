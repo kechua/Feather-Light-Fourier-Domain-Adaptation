{
 "cells": [
  {
   "cell_type": "markdown",
   "id": "5defc626-a6a9-451d-8ea7-df015660387f",
   "metadata": {},
   "source": [
    "# ReadMe"
   ]
  },
  {
   "cell_type": "markdown",
   "id": "adb6fec7-71f0-466e-b7aa-a0f422a41dfe",
   "metadata": {},
   "source": [
    "The structure of this notebook is as follows:\n",
    "\n",
    "0. Imports; Paths\n",
    "1. Baseline Scores\n",
    "2. Picking the pairs of interest (mild, medium, severe *domain shift*)"
   ]
  },
  {
   "cell_type": "markdown",
   "id": "3c2d5433-8b5d-48ef-8471-84fb036fbe24",
   "metadata": {},
   "source": [
    "# Miscellaneous"
   ]
  },
  {
   "cell_type": "code",
   "execution_count": 58,
   "id": "5d3dfaec-ec5a-47e2-a2bc-b01556806562",
   "metadata": {},
   "outputs": [],
   "source": [
    "import numpy as np\n",
    "import pandas as pd\n",
    "import pickle\n",
    "from dpipe.io import load\n",
    "from pathlib import Path"
   ]
  },
  {
   "cell_type": "code",
   "execution_count": 59,
   "id": "a9a224ca-392e-420e-b983-55e6ef13c2c2",
   "metadata": {},
   "outputs": [
    {
     "data": {
      "text/html": [
       "<div>\n",
       "<style scoped>\n",
       "    .dataframe tbody tr th:only-of-type {\n",
       "        vertical-align: middle;\n",
       "    }\n",
       "\n",
       "    .dataframe tbody tr th {\n",
       "        vertical-align: top;\n",
       "    }\n",
       "\n",
       "    .dataframe thead th {\n",
       "        text-align: right;\n",
       "    }\n",
       "</style>\n",
       "<table border=\"1\" class=\"dataframe\">\n",
       "  <thead>\n",
       "    <tr style=\"text-align: right;\">\n",
       "      <th></th>\n",
       "      <th>MRI</th>\n",
       "      <th>brain_mask</th>\n",
       "      <th>fold</th>\n",
       "      <th>tomograph_model</th>\n",
       "      <th>tesla_value</th>\n",
       "      <th>x</th>\n",
       "      <th>y</th>\n",
       "      <th>z</th>\n",
       "      <th>shape</th>\n",
       "    </tr>\n",
       "    <tr>\n",
       "      <th>id</th>\n",
       "      <th></th>\n",
       "      <th></th>\n",
       "      <th></th>\n",
       "      <th></th>\n",
       "      <th></th>\n",
       "      <th></th>\n",
       "      <th></th>\n",
       "      <th></th>\n",
       "      <th></th>\n",
       "    </tr>\n",
       "  </thead>\n",
       "  <tbody>\n",
       "    <tr>\n",
       "      <th>CC0001</th>\n",
       "      <td>images/CC0001_philips_15_55_M.nii.gz</td>\n",
       "      <td>masks/CC0001_philips_15_55_M_ss.nii.gz</td>\n",
       "      <td>4</td>\n",
       "      <td>philips</td>\n",
       "      <td>15</td>\n",
       "      <td>1.0</td>\n",
       "      <td>1.0</td>\n",
       "      <td>1.0</td>\n",
       "      <td>(182, 218, 182)</td>\n",
       "    </tr>\n",
       "    <tr>\n",
       "      <th>CC0002</th>\n",
       "      <td>images/CC0002_philips_15_56_M.nii.gz</td>\n",
       "      <td>masks/CC0002_philips_15_56_M_ss.nii.gz</td>\n",
       "      <td>4</td>\n",
       "      <td>philips</td>\n",
       "      <td>15</td>\n",
       "      <td>1.0</td>\n",
       "      <td>1.0</td>\n",
       "      <td>1.0</td>\n",
       "      <td>(182, 218, 182)</td>\n",
       "    </tr>\n",
       "    <tr>\n",
       "      <th>CC0003</th>\n",
       "      <td>images/CC0003_philips_15_63_F.nii.gz</td>\n",
       "      <td>masks/CC0003_philips_15_63_F_ss.nii.gz</td>\n",
       "      <td>4</td>\n",
       "      <td>philips</td>\n",
       "      <td>15</td>\n",
       "      <td>1.0</td>\n",
       "      <td>1.0</td>\n",
       "      <td>1.0</td>\n",
       "      <td>(182, 218, 182)</td>\n",
       "    </tr>\n",
       "    <tr>\n",
       "      <th>CC0004</th>\n",
       "      <td>images/CC0004_philips_15_67_M.nii.gz</td>\n",
       "      <td>masks/CC0004_philips_15_67_M_ss.nii.gz</td>\n",
       "      <td>4</td>\n",
       "      <td>philips</td>\n",
       "      <td>15</td>\n",
       "      <td>1.0</td>\n",
       "      <td>1.0</td>\n",
       "      <td>1.0</td>\n",
       "      <td>(182, 218, 182)</td>\n",
       "    </tr>\n",
       "    <tr>\n",
       "      <th>CC0005</th>\n",
       "      <td>images/CC0005_philips_15_62_M.nii.gz</td>\n",
       "      <td>masks/CC0005_philips_15_62_M_ss.nii.gz</td>\n",
       "      <td>4</td>\n",
       "      <td>philips</td>\n",
       "      <td>15</td>\n",
       "      <td>1.0</td>\n",
       "      <td>1.0</td>\n",
       "      <td>1.0</td>\n",
       "      <td>(182, 218, 182)</td>\n",
       "    </tr>\n",
       "  </tbody>\n",
       "</table>\n",
       "</div>"
      ],
      "text/plain": [
       "                                         MRI  \\\n",
       "id                                             \n",
       "CC0001  images/CC0001_philips_15_55_M.nii.gz   \n",
       "CC0002  images/CC0002_philips_15_56_M.nii.gz   \n",
       "CC0003  images/CC0003_philips_15_63_F.nii.gz   \n",
       "CC0004  images/CC0004_philips_15_67_M.nii.gz   \n",
       "CC0005  images/CC0005_philips_15_62_M.nii.gz   \n",
       "\n",
       "                                    brain_mask  fold tomograph_model  \\\n",
       "id                                                                     \n",
       "CC0001  masks/CC0001_philips_15_55_M_ss.nii.gz     4         philips   \n",
       "CC0002  masks/CC0002_philips_15_56_M_ss.nii.gz     4         philips   \n",
       "CC0003  masks/CC0003_philips_15_63_F_ss.nii.gz     4         philips   \n",
       "CC0004  masks/CC0004_philips_15_67_M_ss.nii.gz     4         philips   \n",
       "CC0005  masks/CC0005_philips_15_62_M_ss.nii.gz     4         philips   \n",
       "\n",
       "        tesla_value    x    y    z            shape  \n",
       "id                                                   \n",
       "CC0001           15  1.0  1.0  1.0  (182, 218, 182)  \n",
       "CC0002           15  1.0  1.0  1.0  (182, 218, 182)  \n",
       "CC0003           15  1.0  1.0  1.0  (182, 218, 182)  \n",
       "CC0004           15  1.0  1.0  1.0  (182, 218, 182)  \n",
       "CC0005           15  1.0  1.0  1.0  (182, 218, 182)  "
      ]
     },
     "execution_count": 59,
     "metadata": {},
     "output_type": "execute_result"
    }
   ],
   "source": [
    "path_base = Path('/path/exps/baseline_w_dice/')\n",
    "path_oracle = Path('/path/exps/oracle_w_dice/')\n",
    "meta = pd.read_csv('/path/cc359/meta.csv', index_col='id')\n",
    "meta.head()"
   ]
  },
  {
   "cell_type": "markdown",
   "id": "b6595940-4080-47a8-9c95-9640b3ccd73c",
   "metadata": {},
   "source": [
    "# Baseline Scores"
   ]
  },
  {
   "cell_type": "code",
   "execution_count": 60,
   "id": "7ff2bf4d-4304-41a6-b836-7d8cebf227e6",
   "metadata": {},
   "outputs": [],
   "source": [
    "records = []\n",
    "records_std = []\n",
    "for s in sorted(meta['fold'].unique()):\n",
    "    res_row = {}\n",
    "    res_row_std = {}\n",
    "    \n",
    "    # one2all results:\n",
    "    sdices = load(path_base / f'experiment_{s}/test_metrics/sdice_score.json')\n",
    "    for t in sorted(set(meta['fold'].unique()) - {s}):\n",
    "        df_row = meta[meta['fold'] == t].iloc[0]\n",
    "        target_name = df_row['tomograph_model'] + str(df_row['tesla_value'])\n",
    "        \n",
    "        ids_t = meta[meta['fold'] == t].index\n",
    "        res_row[target_name] = np.mean([sdsc for _id, sdsc in sdices.items() if _id in ids_t])\n",
    "        res_row_std[target_name] = np.std([sdsc for _id, sdsc in sdices.items() if _id in ids_t])\n",
    "    \n",
    "    df_row = meta[meta['fold'] == s].iloc[0]\n",
    "    source_name = df_row['tomograph_model'] + str(df_row['tesla_value'])\n",
    "    sdices = {}\n",
    "    for n_val in range(3):\n",
    "        sdices = {**sdices,\n",
    "                  **load(path_oracle / f'experiment_{s * 3 + n_val}/test_metrics/sdice_score.json')}\n",
    "    res_row[source_name] = np.mean(list(sdices.values()))\n",
    "    res_row_std[source_name] = np.std(list(sdices.values()))\n",
    "\n",
    "    res_row[' '] = source_name\n",
    "    res_row_std[' '] = source_name\n",
    "    records.append(res_row)\n",
    "    records_std.append(res_row_std)"
   ]
  },
  {
   "cell_type": "code",
   "execution_count": 54,
   "id": "531161f3-1730-453d-84f8-6dbff88c8c17",
   "metadata": {},
   "outputs": [],
   "source": [
    "df = pd.DataFrame.from_records(records, index=' ')\n",
    "df = df[df.index].T\n",
    "df = df.rename(columns={name: 'source: ' + name for name in list(df)})\n",
    "\n",
    "df_std = pd.DataFrame.from_records(records_std, index=' ')\n",
    "df_std = df_std[df.index].T\n",
    "df_std = df_std.rename(columns={name: 'source: ' + name for name in list(df_std)})"
   ]
  },
  {
   "cell_type": "code",
   "execution_count": 55,
   "id": "9a2dada3-ca63-4505-b7df-24048a6b0f70",
   "metadata": {},
   "outputs": [
    {
     "data": {
      "text/html": [
       "<div>\n",
       "<style scoped>\n",
       "    .dataframe tbody tr th:only-of-type {\n",
       "        vertical-align: middle;\n",
       "    }\n",
       "\n",
       "    .dataframe tbody tr th {\n",
       "        vertical-align: top;\n",
       "    }\n",
       "\n",
       "    .dataframe thead th {\n",
       "        text-align: right;\n",
       "    }\n",
       "</style>\n",
       "<table border=\"1\" class=\"dataframe\">\n",
       "  <thead>\n",
       "    <tr style=\"text-align: right;\">\n",
       "      <th></th>\n",
       "      <th>source: siemens15</th>\n",
       "      <th>source: siemens3</th>\n",
       "      <th>source: ge15</th>\n",
       "      <th>source: ge3</th>\n",
       "      <th>source: philips15</th>\n",
       "      <th>source: philips3</th>\n",
       "    </tr>\n",
       "  </thead>\n",
       "  <tbody>\n",
       "    <tr>\n",
       "      <th>siemens15</th>\n",
       "      <td>0.901064</td>\n",
       "      <td>0.573883</td>\n",
       "      <td>0.827449</td>\n",
       "      <td>0.541416</td>\n",
       "      <td>0.781759</td>\n",
       "      <td>0.842717</td>\n",
       "    </tr>\n",
       "    <tr>\n",
       "      <th>siemens3</th>\n",
       "      <td>0.810572</td>\n",
       "      <td>0.899088</td>\n",
       "      <td>0.781915</td>\n",
       "      <td>0.629586</td>\n",
       "      <td>0.801619</td>\n",
       "      <td>0.776073</td>\n",
       "    </tr>\n",
       "    <tr>\n",
       "      <th>ge15</th>\n",
       "      <td>0.608177</td>\n",
       "      <td>0.110777</td>\n",
       "      <td>0.897622</td>\n",
       "      <td>0.395552</td>\n",
       "      <td>0.504536</td>\n",
       "      <td>0.669007</td>\n",
       "    </tr>\n",
       "    <tr>\n",
       "      <th>ge3</th>\n",
       "      <td>0.835194</td>\n",
       "      <td>0.435018</td>\n",
       "      <td>0.784308</td>\n",
       "      <td>0.907939</td>\n",
       "      <td>0.763219</td>\n",
       "      <td>0.777948</td>\n",
       "    </tr>\n",
       "    <tr>\n",
       "      <th>philips15</th>\n",
       "      <td>0.829505</td>\n",
       "      <td>0.449896</td>\n",
       "      <td>0.870570</td>\n",
       "      <td>0.422842</td>\n",
       "      <td>0.912699</td>\n",
       "      <td>0.790318</td>\n",
       "    </tr>\n",
       "    <tr>\n",
       "      <th>philips3</th>\n",
       "      <td>0.735500</td>\n",
       "      <td>0.397773</td>\n",
       "      <td>0.620620</td>\n",
       "      <td>0.393070</td>\n",
       "      <td>0.556514</td>\n",
       "      <td>0.878282</td>\n",
       "    </tr>\n",
       "  </tbody>\n",
       "</table>\n",
       "</div>"
      ],
      "text/plain": [
       "           source: siemens15  source: siemens3  source: ge15  source: ge3  \\\n",
       "siemens15           0.901064          0.573883      0.827449     0.541416   \n",
       "siemens3            0.810572          0.899088      0.781915     0.629586   \n",
       "ge15                0.608177          0.110777      0.897622     0.395552   \n",
       "ge3                 0.835194          0.435018      0.784308     0.907939   \n",
       "philips15           0.829505          0.449896      0.870570     0.422842   \n",
       "philips3            0.735500          0.397773      0.620620     0.393070   \n",
       "\n",
       "           source: philips15  source: philips3  \n",
       "siemens15           0.781759          0.842717  \n",
       "siemens3            0.801619          0.776073  \n",
       "ge15                0.504536          0.669007  \n",
       "ge3                 0.763219          0.777948  \n",
       "philips15           0.912699          0.790318  \n",
       "philips3            0.556514          0.878282  "
      ]
     },
     "execution_count": 55,
     "metadata": {},
     "output_type": "execute_result"
    }
   ],
   "source": [
    "df"
   ]
  },
  {
   "cell_type": "code",
   "execution_count": 56,
   "id": "edccf679-67be-4852-9c2a-ab9e9d192856",
   "metadata": {},
   "outputs": [
    {
     "data": {
      "text/html": [
       "<div>\n",
       "<style scoped>\n",
       "    .dataframe tbody tr th:only-of-type {\n",
       "        vertical-align: middle;\n",
       "    }\n",
       "\n",
       "    .dataframe tbody tr th {\n",
       "        vertical-align: top;\n",
       "    }\n",
       "\n",
       "    .dataframe thead th {\n",
       "        text-align: right;\n",
       "    }\n",
       "</style>\n",
       "<table border=\"1\" class=\"dataframe\">\n",
       "  <thead>\n",
       "    <tr style=\"text-align: right;\">\n",
       "      <th></th>\n",
       "      <th>source: siemens15</th>\n",
       "      <th>source: siemens3</th>\n",
       "      <th>source: ge15</th>\n",
       "      <th>source: ge3</th>\n",
       "      <th>source: philips15</th>\n",
       "      <th>source: philips3</th>\n",
       "    </tr>\n",
       "  </thead>\n",
       "  <tbody>\n",
       "    <tr>\n",
       "      <th>siemens15</th>\n",
       "      <td>0.033872</td>\n",
       "      <td>0.179785</td>\n",
       "      <td>0.066265</td>\n",
       "      <td>0.175572</td>\n",
       "      <td>0.087173</td>\n",
       "      <td>0.026528</td>\n",
       "    </tr>\n",
       "    <tr>\n",
       "      <th>siemens3</th>\n",
       "      <td>0.037547</td>\n",
       "      <td>0.020827</td>\n",
       "      <td>0.034877</td>\n",
       "      <td>0.066367</td>\n",
       "      <td>0.045498</td>\n",
       "      <td>0.030756</td>\n",
       "    </tr>\n",
       "    <tr>\n",
       "      <th>ge15</th>\n",
       "      <td>0.169490</td>\n",
       "      <td>0.061549</td>\n",
       "      <td>0.028753</td>\n",
       "      <td>0.157117</td>\n",
       "      <td>0.178875</td>\n",
       "      <td>0.145120</td>\n",
       "    </tr>\n",
       "    <tr>\n",
       "      <th>ge3</th>\n",
       "      <td>0.031387</td>\n",
       "      <td>0.144307</td>\n",
       "      <td>0.065618</td>\n",
       "      <td>0.025315</td>\n",
       "      <td>0.098381</td>\n",
       "      <td>0.034682</td>\n",
       "    </tr>\n",
       "    <tr>\n",
       "      <th>philips15</th>\n",
       "      <td>0.058160</td>\n",
       "      <td>0.098410</td>\n",
       "      <td>0.029758</td>\n",
       "      <td>0.167139</td>\n",
       "      <td>0.033834</td>\n",
       "      <td>0.025638</td>\n",
       "    </tr>\n",
       "    <tr>\n",
       "      <th>philips3</th>\n",
       "      <td>0.118678</td>\n",
       "      <td>0.121546</td>\n",
       "      <td>0.116519</td>\n",
       "      <td>0.116315</td>\n",
       "      <td>0.115651</td>\n",
       "      <td>0.042047</td>\n",
       "    </tr>\n",
       "  </tbody>\n",
       "</table>\n",
       "</div>"
      ],
      "text/plain": [
       "           source: siemens15  source: siemens3  source: ge15  source: ge3  \\\n",
       "siemens15           0.033872          0.179785      0.066265     0.175572   \n",
       "siemens3            0.037547          0.020827      0.034877     0.066367   \n",
       "ge15                0.169490          0.061549      0.028753     0.157117   \n",
       "ge3                 0.031387          0.144307      0.065618     0.025315   \n",
       "philips15           0.058160          0.098410      0.029758     0.167139   \n",
       "philips3            0.118678          0.121546      0.116519     0.116315   \n",
       "\n",
       "           source: philips15  source: philips3  \n",
       "siemens15           0.087173          0.026528  \n",
       "siemens3            0.045498          0.030756  \n",
       "ge15                0.178875          0.145120  \n",
       "ge3                 0.098381          0.034682  \n",
       "philips15           0.033834          0.025638  \n",
       "philips3            0.115651          0.042047  "
      ]
     },
     "execution_count": 56,
     "metadata": {},
     "output_type": "execute_result"
    }
   ],
   "source": [
    "df_std"
   ]
  },
  {
   "cell_type": "code",
   "execution_count": 36,
   "id": "fc90d478-da69-4e8a-ab09-2b75b5e64de1",
   "metadata": {},
   "outputs": [],
   "source": [
    "records_new = {}\n",
    "for el in records:\n",
    "    base = el[' ']\n",
    "    for target in el.keys():\n",
    "        if target != ' ':\n",
    "            score = el[target]\n",
    "            if base != target:\n",
    "                records_new[base + ' -> ' + target] = score\n",
    "                \n",
    "records_new_tuple = [(pair, records_new[pair]) for pair in records_new] \n",
    "records_new_sorted = sorted(records_new_tuple, key = lambda x: x[1])"
   ]
  },
  {
   "cell_type": "markdown",
   "id": "fc71047b-2a6a-4354-b0fa-99870c873fe1",
   "metadata": {},
   "source": [
    "# Choosing the pairs for the subsequent experiments "
   ]
  },
  {
   "cell_type": "code",
   "execution_count": 44,
   "id": "ecbfeaa4-4e6a-4135-aa7b-a69d454a55c1",
   "metadata": {},
   "outputs": [],
   "source": [
    "doms = ['siemens15', 'siemens3', 'ge15', 'ge3', 'philips15', 'philips3']\n",
    "pair2exp = {}\n",
    "i = 0\n",
    "for d1 in doms:\n",
    "    for d2 in doms:\n",
    "        if d1 != d2:\n",
    "            pair2exp[d1 + ' -> '+ d2] = i\n",
    "            i += 1"
   ]
  },
  {
   "cell_type": "markdown",
   "id": "04657fd1-0831-431c-ae03-82bec31abe22",
   "metadata": {
    "tags": []
   },
   "source": [
    "## Severe Domain Shift"
   ]
  },
  {
   "cell_type": "code",
   "execution_count": 45,
   "id": "f7eecba6-6fb9-4c6f-ab6e-cec8ab316797",
   "metadata": {},
   "outputs": [
    {
     "name": "stdout",
     "output_type": "stream",
     "text": [
      "('siemens3 -> ge15', 0.11077697881652818)\n",
      "split # 6\n"
     ]
    }
   ],
   "source": [
    "print(records_new_sorted[0])\n",
    "print('split #', pair2exp[records_new_sorted[0][0]])"
   ]
  },
  {
   "cell_type": "code",
   "execution_count": 46,
   "id": "4e34f2e9-4ab5-4fd7-b688-1df43ac5f793",
   "metadata": {},
   "outputs": [
    {
     "name": "stdout",
     "output_type": "stream",
     "text": [
      "('ge3 -> philips3', 0.3930703310905052)\n",
      "split # 19\n"
     ]
    }
   ],
   "source": [
    "print(records_new_sorted[1])\n",
    "print('split #', pair2exp[records_new_sorted[1][0]])"
   ]
  },
  {
   "cell_type": "markdown",
   "id": "1074641d-60bb-460e-8988-0b3c0d8e1482",
   "metadata": {},
   "source": [
    "## Modest Domain Shift"
   ]
  },
  {
   "cell_type": "code",
   "execution_count": 47,
   "id": "41369544-b51a-4479-9023-52d558f58599",
   "metadata": {},
   "outputs": [
    {
     "name": "stdout",
     "output_type": "stream",
     "text": [
      "('philips3 -> ge15', 0.6690073918594371)\n",
      "split # 27\n"
     ]
    }
   ],
   "source": [
    "print(records_new_sorted[14])\n",
    "print('split #',pair2exp[records_new_sorted[14][0]])"
   ]
  },
  {
   "cell_type": "code",
   "execution_count": 48,
   "id": "f8c5f778-fd33-4447-aee2-f56cd87b2dc5",
   "metadata": {},
   "outputs": [
    {
     "name": "stdout",
     "output_type": "stream",
     "text": [
      "('siemens15 -> philips3', 0.7355004727217355)\n",
      "split # 4\n"
     ]
    }
   ],
   "source": [
    "print(records_new_sorted[15])\n",
    "print('split #',pair2exp[records_new_sorted[15][0]])"
   ]
  },
  {
   "cell_type": "markdown",
   "id": "0bfc60cc-4cd8-465c-8760-2ffab8b2d914",
   "metadata": {},
   "source": [
    "## Almost no Doman Shift"
   ]
  },
  {
   "cell_type": "code",
   "execution_count": 49,
   "id": "dbed4e01-dbe1-4a2e-a59e-a579e411222c",
   "metadata": {},
   "outputs": [
    {
     "name": "stdout",
     "output_type": "stream",
     "text": [
      "('philips3 -> siemens15', 0.8427170057846647)\n",
      "split # 25\n"
     ]
    }
   ],
   "source": [
    "print(records_new_sorted[28])\n",
    "print('split #',pair2exp[records_new_sorted[28][0]])"
   ]
  },
  {
   "cell_type": "code",
   "execution_count": 50,
   "id": "3cc3f939-5754-4448-a438-19fbcd970f57",
   "metadata": {},
   "outputs": [
    {
     "name": "stdout",
     "output_type": "stream",
     "text": [
      "('ge15 -> philips15', 0.8705699279740742)\n",
      "split # 13\n"
     ]
    }
   ],
   "source": [
    "print(records_new_sorted[29])\n",
    "print('split #',pair2exp[records_new_sorted[29][0]])"
   ]
  },
  {
   "cell_type": "code",
   "execution_count": null,
   "id": "a2e3ecfa-2ee9-45eb-86d3-91409c485cb2",
   "metadata": {},
   "outputs": [],
   "source": []
  }
 ],
 "metadata": {
  "kernelspec": {
   "display_name": "Python 3 (ipykernel)",
   "language": "python",
   "name": "python3"
  },
  "language_info": {
   "codemirror_mode": {
    "name": "ipython",
    "version": 3
   },
   "file_extension": ".py",
   "mimetype": "text/x-python",
   "name": "python",
   "nbconvert_exporter": "python",
   "pygments_lexer": "ipython3",
   "version": "3.8.10"
  }
 },
 "nbformat": 4,
 "nbformat_minor": 5
}