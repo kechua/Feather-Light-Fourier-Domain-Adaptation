{
 "cells": [
  {
   "cell_type": "markdown",
   "id": "2341adca-4c7f-4343-b676-24a55250ac2f",
   "metadata": {},
   "source": [
    "# ReadMe"
   ]
  },
  {
   "cell_type": "markdown",
   "id": "13da69bf-48c0-4214-8842-5621cfb766b4",
   "metadata": {},
   "source": [
    "*train_s* - source train set (depending on domain, 57 or 58 scans)\n",
    "\n",
    "*train_t* - target train set (depending on domain, 39 or 40 scans)\n",
    "\n",
    "*val_s* - souce val set (2 scans)\n",
    "\n",
    "*val_t* - target val set (10 scans)\n",
    "\n",
    "*test_t* - target test set (10 scans)\n",
    "\n",
    "Note that we do not use *train_t* set in this work, as we perform test-time domain adaptation "
   ]
  },
  {
   "cell_type": "markdown",
   "id": "3091e812-90c7-4e7e-a073-c552440f24c5",
   "metadata": {},
   "source": [
    "# Generating the split"
   ]
  },
  {
   "cell_type": "code",
   "execution_count": 11,
   "id": "0a79713a-ff12-468b-8d9d-2d1268037725",
   "metadata": {},
   "outputs": [],
   "source": [
    "import numpy as np\n",
    "\n",
    "from kswap.dataset.cc359 import CC359, scale_mri\n",
    "from dpipe.dataset.wrappers import apply, cache_methods\n",
    "from kswap.paths import DATA_PATH\n",
    "\n",
    "from kswap.split import one2all_kspace_new\n",
    "\n",
    "from pathlib import Path\n",
    "from dpipe.io import save, PathLike, load"
   ]
  },
  {
   "cell_type": "code",
   "execution_count": 12,
   "id": "15414d7b-793f-4950-8de6-99be6bb82749",
   "metadata": {},
   "outputs": [],
   "source": [
    "def build_split(folder, split, prefixes):\n",
    "    folder = Path(folder)\n",
    "    for i, ids in enumerate(split):\n",
    "        local = folder / f'experiment_{i}'\n",
    "        local.mkdir(parents=True)\n",
    "\n",
    "        for val, prefix in zip(ids, prefixes):\n",
    "            save(val, local / f'{prefix}_ids.json', indent=0)"
   ]
  },
  {
   "cell_type": "code",
   "execution_count": 13,
   "id": "bcb87be0-0b4a-43ad-a74f-68a34d6797dd",
   "metadata": {},
   "outputs": [],
   "source": [
    "# define the dataset\n",
    "data_path = DATA_PATH\n",
    "low = 0\n",
    "high = 172\n",
    "\n",
    "preprocessed_dataset = apply(CC359(data_path, low, high), load_image=scale_mri)\n",
    "dataset = apply(cache_methods(apply(preprocessed_dataset, load_image=np.float16)), load_image=np.float32)"
   ]
  },
  {
   "cell_type": "code",
   "execution_count": 14,
   "id": "248da914-cc77-4dfb-8dff-7929423443f5",
   "metadata": {},
   "outputs": [],
   "source": [
    "# define split\n",
    "val_size_s = 2\n",
    "val_size_t = 10\n",
    "test_size = 10\n",
    "domains = [0, 1, 2, 3, 4, 5]\n",
    "n_folds = len(domains)\n",
    "\n",
    "split = one2all_kspace_new(\n",
    "    df=dataset.df,\n",
    "    val_size_t=val_size_t,\n",
    "    val_size_s=val_size_s,\n",
    "    test_size=test_size,\n",
    "    folds=domains,\n",
    "    seed=42,\n",
    "    mode='test_time'\n",
    ")\n",
    "\n",
    "prefixes=['train_s', 'train_t', 'val_s', 'val_t', 'test_t']"
   ]
  },
  {
   "cell_type": "code",
   "execution_count": 15,
   "id": "536c7615-b7b1-48de-90e2-c7eae68fc2d0",
   "metadata": {},
   "outputs": [],
   "source": [
    "# build spllit\n",
    "path = 'split'\n",
    "build_split(path, split, prefixes)"
   ]
  }
 ],
 "metadata": {
  "kernelspec": {
   "display_name": "Python 3 (ipykernel)",
   "language": "python",
   "name": "python3"
  },
  "language_info": {
   "codemirror_mode": {
    "name": "ipython",
    "version": 3
   },
   "file_extension": ".py",
   "mimetype": "text/x-python",
   "name": "python",
   "nbconvert_exporter": "python",
   "pygments_lexer": "ipython3",
   "version": "3.8.10"
  }
 },
 "nbformat": 4,
 "nbformat_minor": 5
}
