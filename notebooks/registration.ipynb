{
 "cells": [
  {
   "cell_type": "code",
   "execution_count": 1,
   "id": "82756f79-bfa1-43ac-bbac-b048d0052b14",
   "metadata": {},
   "outputs": [],
   "source": [
    "from tqdm.notebook import tqdm\n",
    "import numpy as np\n",
    "import os"
   ]
  },
  {
   "cell_type": "code",
   "execution_count": 29,
   "id": "db1a7d45-fd89-4e0c-a4b5-80f069ed7e1a",
   "metadata": {},
   "outputs": [],
   "source": [
    "path_masks = \"/path/cc359/masks/\"\n",
    "path_ims = \"/path/cc359/images/\"\n",
    "path_masks_new = \"/path/cc359/masks_new/\"\n",
    "path_ims_new = \"/path/cc359/images_new/\"\n",
    "path_matrices = \"/path/cc359/matrices/\"\n",
    "\n",
    "path_im_mni = \"/usr/local/fsl/data/standard/MNI152_T1_1mm.nii.gz\"\n",
    "path_mask_mni = \"/usr/local/fsl/data/standard/MNI152_T1_1mm_brain_mask.nii.gz\""
   ]
  },
  {
   "cell_type": "code",
   "execution_count": 30,
   "id": "ddea1301-f3a4-4666-ac55-180cb9e874f0",
   "metadata": {},
   "outputs": [],
   "source": [
    "scans_names = sorted(os.listdir(path_ims))\n",
    "masks_names = sorted(os.listdir(path_masks))"
   ]
  },
  {
   "cell_type": "code",
   "execution_count": 31,
   "id": "12978e3d",
   "metadata": {},
   "outputs": [
    {
     "name": "stdout",
     "output_type": "stream",
     "text": [
      "/usr/local/fsl\r\n"
     ]
    }
   ],
   "source": [
    "!echo $FSLDIR"
   ]
  },
  {
   "cell_type": "code",
   "execution_count": 32,
   "id": "d5831167-79e5-4854-8c19-fdd6533ed784",
   "metadata": {},
   "outputs": [
    {
     "data": {
      "application/vnd.jupyter.widget-view+json": {
       "model_id": "ca00d84c3e654935a6f4fc94d77cee72",
       "version_major": 2,
       "version_minor": 0
      },
      "text/plain": [
       "  0%|          | 0/359 [00:00<?, ?it/s]"
      ]
     },
     "metadata": {},
     "output_type": "display_data"
    }
   ],
   "source": [
    "for i in tqdm(range(len(scans_names))):\n",
    "    \n",
    "    scan_name = path_ims + scans_names[i]\n",
    "    mask_name = path_masks + masks_names[i]\n",
    "    \n",
    "    scan_name_new = path_ims_new + scans_names[i]\n",
    "    mask_name_new = path_masks_new + masks_names[i]\n",
    "    \n",
    "    matrix_name = path_matrices + str(i) + \"_matrix\"\n",
    "    \n",
    "    !flirt -in $scan_name -ref $path_im_mni -out $scan_name_new -dof 12 -omat $matrix_name\n",
    "    !flirt -in $mask_name -ref $path_mask_mni -out $mask_name_new -init $matrix_name -applyxfm \n",
    "    "
   ]
  },
  {
   "cell_type": "code",
   "execution_count": null,
   "id": "6f11367c-aae3-4efa-9f3f-b8bb60efac51",
   "metadata": {},
   "outputs": [],
   "source": []
  }
 ],
 "metadata": {
  "kernelspec": {
   "display_name": "Python 3",
   "language": "python",
   "name": "python3"
  },
  "language_info": {
   "codemirror_mode": {
    "name": "ipython",
    "version": 3
   },
   "file_extension": ".py",
   "mimetype": "text/x-python",
   "name": "python",
   "nbconvert_exporter": "python",
   "pygments_lexer": "ipython3",
   "version": "3.8.8"
  }
 },
 "nbformat": 4,
 "nbformat_minor": 5
}