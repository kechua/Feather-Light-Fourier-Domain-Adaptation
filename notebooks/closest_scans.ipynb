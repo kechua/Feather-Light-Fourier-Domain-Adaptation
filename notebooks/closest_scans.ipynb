{
 "cells": [
  {
   "cell_type": "markdown",
   "id": "ca0566c6-f2e7-42cd-ae7e-1e62704b1324",
   "metadata": {},
   "source": [
    "# ReadMe"
   ]
  },
  {
   "cell_type": "markdown",
   "id": "8adf225e-2916-4bf9-a229-ba8083acc075",
   "metadata": {},
   "source": [
    "The structure of this notebook is as follows:\n",
    "\n",
    "0) Imports; defining the dataset. Test\n",
    "1) Functions for looking for the *source* slices, closest to a given *target* scan \n",
    "2) Generating \"raw\" closeness dictionary \n",
    "2) Generating sorted lists of closests slices (in 2D/2.5D/3D fashion -- see the paper)\n",
    "3) Examples of the \"raw\" dicitonary and closest slices lists entries"
   ]
  },
  {
   "cell_type": "markdown",
   "id": "ed8b0daf-98ef-4cc2-b7cc-33757dd33aed",
   "metadata": {},
   "source": [
    "# Miscellaneous"
   ]
  },
  {
   "cell_type": "code",
   "execution_count": 1,
   "id": "1f8b369a-d7ae-4b81-a374-7f34e42fc909",
   "metadata": {},
   "outputs": [],
   "source": [
    "import os.path\n",
    "import pandas as pd\n",
    "import numpy as np\n",
    "import torch\n",
    "import matplotlib.pyplot as plt\n",
    "import json\n",
    "from os.path import join as jp\n",
    "from kswap.module.unet import UNet2D\n",
    "import random\n",
    "import piq\n",
    "from scipy import ndimage\n",
    "from joblib import Parallel, delayed\n",
    "from dpipe.io import load\n",
    "from kswap.utils import choose_root\n",
    "\n",
    "from kswap.dataset.cc359 import CC359, scale_mri\n",
    "from dpipe.dataset.wrappers import apply, cache_methods\n",
    "\n",
    "from tqdm.notebook import tqdm"
   ]
  },
  {
   "cell_type": "code",
   "execution_count": 2,
   "id": "1cd40e80-50a0-4b25-9fcc-25bf00f944fa",
   "metadata": {},
   "outputs": [],
   "source": [
    "# Defining the Dataset\n",
    "data_path = choose_root(\n",
    "    '/path/cc359',\n",
    "    '/path/raid/cc359',\n",
    ")\n",
    "\n",
    "low = 0\n",
    "high = 172\n",
    "\n",
    "preprocessed_dataset = apply(CC359(data_path, low, high), load_image=scale_mri)\n",
    "dataset = apply(cache_methods(apply(preprocessed_dataset, load_image=np.float16)), load_image=np.float32)"
   ]
  },
  {
   "cell_type": "markdown",
   "id": "74f0063d-c551-40c7-9f86-01e8a2218aee",
   "metadata": {},
   "source": [
    "# Functions"
   ]
  },
  {
   "cell_type": "code",
   "execution_count": 3,
   "id": "68a08154-50c8-4a79-af48-5e601e061238",
   "metadata": {},
   "outputs": [],
   "source": [
    "def find_nearest_25d(dataset, s_slices_ids, t_slice, coordinate, n_nearest, offset=(60, 60), device_name='cpu'):\n",
    "    \n",
    "    \"\"\"\n",
    "    measuring the *source* slices closeness to a given *target* slice\n",
    "    \"\"\"\n",
    "    \n",
    "    # crop around the mass centre\n",
    "    offset_x, offset_y = offset\n",
    "    x, y = map(int, ndimage.measurements.center_of_mass(t_slice))\n",
    "    t_slice = t_slice[x - offset_x: x + offset_x, y - offset_y: y + offset_y].copy()\n",
    "    t_slice = torch.tensor(torch.from_numpy(t_slice), device=device_name)[None, None, ...]\n",
    "        \n",
    "    slices_scores = [(id_, assess_slice_25d(dataset, coordinate, offset_x, offset_y, device_name, t_slice, id_))\n",
    "                 for id_ in s_slices_ids]\n",
    "    return slices_scores\n",
    "\n",
    "def assess_slice_25d(dataset, coordinate, offset_x, offset_y, device_name, t_slice, id_):\n",
    "    \n",
    "    \"\"\"\n",
    "    (*source* slice proximity <-> *target* slice) closeness\n",
    "    \"\"\"\n",
    "    \n",
    "    scan = dataset.load_image(id_)\n",
    "    h = scan.shape[-1]\n",
    "    to_return = []\n",
    "    if (coordinate > 1) and (coordinate < h-2):\n",
    "        for i in range(-2, 3):\n",
    "            s_slice = scan[:, :, coordinate+i]\n",
    "            x, y = map(int, ndimage.measurements.center_of_mass(s_slice))\n",
    "            s_slice_trunc = s_slice[x - offset_x: x + offset_x, y - offset_y: y + offset_y].copy()\n",
    "            s_slice_trunc = torch.tensor(torch.from_numpy(s_slice_trunc), device=device_name)[None, None, ...]\n",
    "            ssim_cur = piq.srsim(s_slice_trunc, t_slice, data_range=1.)  # best one\n",
    "            to_return.append((float(ssim_cur.numpy()), i))\n",
    "    else:\n",
    "        s_slice = scan[:, :, coordinate]\n",
    "        x, y = map(int, ndimage.measurements.center_of_mass(s_slice))\n",
    "        s_slice_trunc = s_slice[x - offset_x: x + offset_x, y - offset_y: y + offset_y].copy()\n",
    "        s_slice_trunc = torch.tensor(torch.from_numpy(s_slice_trunc), device=device_name)[None, None, ...]\n",
    "        ssim_cur = piq.srsim(s_slice_trunc, t_slice, data_range=1.)  # best one\n",
    "        to_return.append((float(ssim_cur.numpy()), 0))\n",
    "    \n",
    "    return tuple(to_return)"
   ]
  },
  {
   "cell_type": "code",
   "execution_count": 4,
   "id": "e5509e08-3830-4340-aa41-069898e1ccc1",
   "metadata": {},
   "outputs": [],
   "source": [
    "id2dom = {0: 'sm15', 1: 'sm3', 2: 'ge15', 3: 'ge3', 4: 'ph15', 5: 'ph3'}"
   ]
  },
  {
   "cell_type": "code",
   "execution_count": 6,
   "id": "03a4dd10-bcd8-4137-8f36-b2cb10dc1564",
   "metadata": {},
   "outputs": [],
   "source": [
    "# pair to the number of an experiment in the split\n",
    "\n",
    "id2dom = {0: 'sm15', 1: 'sm3', 2: 'ge15', 3: 'ge3', 4: 'ph15', 5: 'ph3'}\n",
    "pairs = [(1, 2), (3, 5), (5, 2), (0, 5), (5, 0), (2, 4)]\n",
    "\n",
    "count = 0\n",
    "pair2exp = {}\n",
    "for i in range(6):\n",
    "    for j in range(6):\n",
    "        if i!=j:\n",
    "            pair2exp[(i,j)] = count\n",
    "            count += 1\n",
    "            \n",
    "exps = [pair2exp[el] for el in pairs]"
   ]
  },
  {
   "cell_type": "code",
   "execution_count": 7,
   "id": "0175ccea-9134-4095-b213-e3e0e33edb44",
   "metadata": {},
   "outputs": [
    {
     "data": {
      "text/plain": [
       "[6, 19, 27, 4, 25, 13]"
      ]
     },
     "execution_count": 7,
     "metadata": {},
     "output_type": "execute_result"
    }
   ],
   "source": [
    "exps"
   ]
  },
  {
   "cell_type": "markdown",
   "id": "10dd3bbe-900a-4fe4-a1d5-600984ff044b",
   "metadata": {},
   "source": [
    "# Closeness dictionary"
   ]
  },
  {
   "cell_type": "code",
   "execution_count": null,
   "id": "bbc2539c-cb8a-4d8c-9626-c491a56742c3",
   "metadata": {
    "tags": []
   },
   "outputs": [],
   "source": [
    "scores_val = {}\n",
    "scores_test = {}\n",
    "\n",
    "for pair in pairs:\n",
    "    \n",
    "    # Getting all the required scans IDs\n",
    "    n_exp = pair2exp[pair]\n",
    "    split_path = '/path/exps/split/experiment_' + str(n_exp)\n",
    "    \n",
    "    scores_val = {}\n",
    "    scores_test = {}\n",
    "    \n",
    "    path_train_source = jp(split_path, 'train_s_ids.json')\n",
    "    train_source_ids = load(path_train_source)\n",
    "\n",
    "    path_val_target = jp(split_path, 'val_t_ids.json')\n",
    "    val_target_ids = load(path_val_target)\n",
    "\n",
    "    path_test_target = jp(split_path, 'test_t_ids.json')\n",
    "    test_target_ids = load(path_test_target)\n",
    "    \n",
    "    # Val Scans: val slice -> closest slices\n",
    "    for id_target in val_target_ids:\n",
    "        scores_val[id_target] = {}\n",
    "        scan = dataset.load_image(id_target)\n",
    "        h = scan.shape[-1]\n",
    "        for i in tqdm(range(h)):\n",
    "            slice_ = scan[:, :, i]\n",
    "            slice_nearest = find_nearest_25d(dataset=dataset, s_slices_ids=train_source_ids, t_slice=slice_, \n",
    "                                         coordinate=i, n_nearest=7, offset=(60, 60), device_name='cpu')\n",
    "            scores_val[id_target][i] = tuple(slice_nearest)\n",
    "    \n",
    "    with open('/path/exps/closest_scans/closest_scans_val_' + str(n_exp) + '.json', 'w') as fp:\n",
    "        json.dump(scores_val, fp)\n",
    "            \n",
    "    # Test Scans: test slice -> closest slices\n",
    "    for id_target in test_target_ids:\n",
    "        scores_test[id_target] = {}\n",
    "        scan = dataset.load_image(id_target)\n",
    "        h = scan.shape[-1]\n",
    "        for i in tqdm(range(h)):\n",
    "            slice_ = scan[:, :, i]\n",
    "            slice_nearest = find_nearest_25d(dataset=dataset, s_slices_ids=train_source_ids, t_slice=slice_, \n",
    "                                         coordinate=i, n_nearest=7, offset=(60, 60), device_name='cpu')\n",
    "            scores_test[id_target][i] = tuple(slice_nearest)\n",
    "\n",
    "    with open('/path/exps/closest_scans/closest_scans_test_' + str(n_exp) + '.json', 'w') as fp:\n",
    "        json.dump(scores_test, fp)"
   ]
  },
  {
   "cell_type": "markdown",
   "id": "720852ac-86af-420d-91ee-630958d98106",
   "metadata": {},
   "source": [
    "# 2D, 2.5D and 3D closeness"
   ]
  },
  {
   "cell_type": "markdown",
   "id": "91fe26e6-bc1b-496e-9f2f-df30d899978a",
   "metadata": {},
   "source": [
    "## 2D"
   ]
  },
  {
   "cell_type": "code",
   "execution_count": null,
   "id": "b2f471f7-f565-44c6-b297-9c8b59e32e7a",
   "metadata": {},
   "outputs": [],
   "source": [
    "for exp in exps:\n",
    "    \n",
    "    path = '/path/exps/closest_scans/closest_scans_val_' + str(exp) + '.json'\n",
    "    with open(path) as fp:\n",
    "        closest_val = json.load(fp)\n",
    "\n",
    "    closest_val_arranged = {}\n",
    "    for t_id in closest_val.keys():\n",
    "        closest_val_arranged[t_id] = {}\n",
    "        for slice_id in closest_val[t_id].keys():\n",
    "            closest_val_arranged[t_id][slice_id] = []\n",
    "            for s_id_res in closest_val[t_id][slice_id]:\n",
    "                s_id, scores = s_id_res\n",
    "                for el in scores:\n",
    "                    score, position = el\n",
    "                    if position == 0:\n",
    "                        closest_val_arranged[t_id][slice_id].append((s_id, position, score))\n",
    "            closest_val_arranged[t_id][slice_id] = sorted(tuple(closest_val_arranged[t_id][slice_id]), \n",
    "                                                          key = lambda x: x[2], reverse=True)\n",
    "        \n",
    "    with open('/path/exps/closest_scans/closest_scans_val_' + str(exp) + '_2d.json', 'w') as fp:\n",
    "        json.dump(closest_val_arranged, fp)"
   ]
  },
  {
   "cell_type": "markdown",
   "id": "cae65790-a212-41ee-a216-116cf059e396",
   "metadata": {},
   "source": [
    "## 2.5D"
   ]
  },
  {
   "cell_type": "code",
   "execution_count": null,
   "id": "7c3280ba-350c-494d-9475-72fbe8272fc6",
   "metadata": {},
   "outputs": [],
   "source": [
    "for exp in exps:\n",
    "    \n",
    "    path = '/path/exps/closest_scans/closest_scans_test_' + str(exp) + '.json'\n",
    "    with open(path) as fp:\n",
    "        closest_val = json.load(fp)\n",
    "\n",
    "    closest_val_arranged = {}\n",
    "    for t_id in closest_val.keys():\n",
    "        closest_val_arranged[t_id] = {}\n",
    "        for slice_id in closest_val[t_id].keys():\n",
    "            closest_val_arranged[t_id][slice_id] = []\n",
    "            for s_id_res in closest_val[t_id][slice_id]:\n",
    "                s_id, scores = s_id_res\n",
    "                for el in scores:\n",
    "                    score, position = el\n",
    "                    closest_val_arranged[t_id][slice_id].append((s_id, position, score))\n",
    "            closest_val_arranged[t_id][slice_id] = sorted(tuple(closest_val_arranged[t_id][slice_id]), \n",
    "                                                          key = lambda x: x[2], reverse=True)\n",
    "        \n",
    "    with open('/path/exps/closest_scans/closest_scans_test_' + str(exp) + '_25d.json', 'w') as fp:\n",
    "        json.dump(closest_val_arranged, fp)"
   ]
  },
  {
   "cell_type": "markdown",
   "id": "219e74e5-df44-48a2-80ef-21308f7276f7",
   "metadata": {},
   "source": [
    "## 3D"
   ]
  },
  {
   "cell_type": "code",
   "execution_count": null,
   "id": "52b4e0df-2a3e-4cce-85c9-3b193cdf87e6",
   "metadata": {},
   "outputs": [],
   "source": [
    "for exp in exps:\n",
    "    \n",
    "    path = '/path/exps/closest_scans/closest_scans_test_' + str(exp) + '_2d.json'\n",
    "    with open(path) as fp:\n",
    "        closest_val = json.load(fp)\n",
    "\n",
    "    closest_val_3d = {}\n",
    "    closest_val_3d_final = {}\n",
    "\n",
    "    for t_id in closest_val.keys():\n",
    "        # we intend to accumulate an auxiliary dict: closest_val_3d[t_id][s_id]\n",
    "        closest_val_3d[t_id] = {} \n",
    "        # the dict of desired format: closest_val_3d_final[t_id][slice_id]\n",
    "        closest_val_3d_final[t_id] = {}\n",
    "        \n",
    "        # closest_val_3d[t_id][s_id] -> list of scores (slice2slice closeness)\n",
    "        for slice_id in closest_val[t_id].keys():\n",
    "            res_slice = closest_val[t_id][slice_id] \n",
    "            closest_val_3d_final[t_id][slice_id] = []\n",
    "            for el in res_slice:\n",
    "                s_id, score = el[0], el[2]\n",
    "                if s_id not in closest_val_3d[t_id].keys():\n",
    "                    closest_val_3d[t_id][s_id] = [score]\n",
    "                else:\n",
    "                    closest_val_3d[t_id][s_id].append(score)\n",
    "\n",
    "    # closest_val_3d[t_id] -> source scans sorted by closeness\n",
    "    for t_id in closest_val_3d.keys():\n",
    "        for s_id in closest_val_3d[t_id].keys():\n",
    "            closest_val_3d[t_id][s_id] = np.array(closest_val_3d[t_id][s_id]).mean()\n",
    "        proxy = sorted(list(closest_val_3d[t_id].items()), key = lambda x: x[1], reverse=True)\n",
    "        closest_val_3d[t_id] = [[el[0], 0, el[1]] for el in proxy]\n",
    "\n",
    "    # closest_val_3d_final[t_id][slice_id] is what we actually need\n",
    "    for t_id in closest_val_3d.keys():   \n",
    "        for i, slice_id in enumerate(slice_ids):\n",
    "            closest_val_3d_final[t_id][slice_id] = closest_val_3d[t_id]\n",
    "            \n",
    "    with open('/path/exps/closest_scans/closest_scans_test_' + str(exp) + '_3d.json', 'w') as fp:\n",
    "        json.dump(closest_val_3d_final, fp)"
   ]
  },
  {
   "cell_type": "markdown",
   "id": "2c8359f9-5f73-47e3-b96e-aa1f4c319dbf",
   "metadata": {},
   "source": [
    "# Examples"
   ]
  },
  {
   "cell_type": "markdown",
   "id": "ac3f2fba-22c8-4396-ac32-8b3e29d769b7",
   "metadata": {},
   "source": [
    "## Raw closeness dict "
   ]
  },
  {
   "cell_type": "code",
   "execution_count": 52,
   "id": "108f046a-fdb6-4018-97e2-a515c1c271a5",
   "metadata": {},
   "outputs": [],
   "source": [
    "path = '/path/exps/closest_scans/closest_scans_test_' + str(6) + '.json'\n",
    "with open(path) as fp:\n",
    "    closest = json.load(fp)"
   ]
  },
  {
   "cell_type": "code",
   "execution_count": 55,
   "id": "4ea0f01f-026c-44ca-a5da-0627e75fe929",
   "metadata": {},
   "outputs": [
    {
     "data": {
      "text/plain": [
       "[['CC0216',\n",
       "  [[0.7414243817329407, -2],\n",
       "   [0.7566266655921936, -1],\n",
       "   [0.7579689621925354, 0],\n",
       "   [0.7535974383354187, 1],\n",
       "   [0.7527554631233215, 2]]],\n",
       " ['CC0225',\n",
       "  [[0.7327763438224792, -2],\n",
       "   [0.7237334847450256, -1],\n",
       "   [0.7115591168403625, 0],\n",
       "   [0.7117815613746643, 1],\n",
       "   [0.724881649017334, 2]]],\n",
       " ['CC0193',\n",
       "  [[0.7191252708435059, -2],\n",
       "   [0.7312114834785461, -1],\n",
       "   [0.7469754815101624, 0],\n",
       "   [0.73780357837677, 1],\n",
       "   [0.7465262413024902, 2]]]]"
      ]
     },
     "execution_count": 55,
     "metadata": {},
     "output_type": "execute_result"
    }
   ],
   "source": [
    "list(closest['CC0243']['10'])[:3]"
   ]
  },
  {
   "cell_type": "code",
   "execution_count": 56,
   "id": "3f567444-637e-4394-bd69-87707087acf7",
   "metadata": {},
   "outputs": [
    {
     "data": {
      "text/plain": [
       "[['CC0216',\n",
       "  [[0.777565598487854, -2],\n",
       "   [0.7713488936424255, -1],\n",
       "   [0.7729378342628479, 0],\n",
       "   [0.7835105061531067, 1],\n",
       "   [0.7913953065872192, 2]]],\n",
       " ['CC0225',\n",
       "  [[0.7752798199653625, -2],\n",
       "   [0.7741305232048035, -1],\n",
       "   [0.7721046805381775, 0],\n",
       "   [0.7716405391693115, 1],\n",
       "   [0.773045003414154, 2]]],\n",
       " ['CC0193',\n",
       "  [[0.7597838640213013, -2],\n",
       "   [0.7712560296058655, -1],\n",
       "   [0.7688422203063965, 0],\n",
       "   [0.7702457904815674, 1],\n",
       "   [0.7759168744087219, 2]]]]"
      ]
     },
     "execution_count": 56,
     "metadata": {},
     "output_type": "execute_result"
    }
   ],
   "source": [
    "list(closest['CC0243']['15'])[:3]"
   ]
  },
  {
   "cell_type": "markdown",
   "id": "885491d1-3cf9-44cb-8dec-28c64a3997c6",
   "metadata": {},
   "source": [
    "## 2D"
   ]
  },
  {
   "cell_type": "code",
   "execution_count": 28,
   "id": "abecea31-bd45-490d-b2f6-1f2208a89298",
   "metadata": {},
   "outputs": [],
   "source": [
    "path = '/path/exps/closest_scans/closest_scans_test_' + str(6) + '_2d.json'\n",
    "with open(path) as fp:\n",
    "    closest_2d = json.load(fp)"
   ]
  },
  {
   "cell_type": "code",
   "execution_count": 29,
   "id": "65450107-8d1c-4637-9f1e-7f49eb54787d",
   "metadata": {},
   "outputs": [
    {
     "data": {
      "text/plain": [
       "[['CC0219', 0, 0.7949985861778259],\n",
       " ['CC0231', 0, 0.7910090088844299],\n",
       " ['CC0181', 0, 0.7881765961647034],\n",
       " ['CC0204', 0, 0.7867870330810547],\n",
       " ['CC0222', 0, 0.7814748287200928],\n",
       " ['CC0210', 0, 0.7783483266830444],\n",
       " ['CC0212', 0, 0.7776628732681274]]"
      ]
     },
     "execution_count": 29,
     "metadata": {},
     "output_type": "execute_result"
    }
   ],
   "source": [
    "list(closest_2d['CC0243']['10'])[:7]"
   ]
  },
  {
   "cell_type": "code",
   "execution_count": 30,
   "id": "92ebe8e2-e9e2-4869-a56a-31f32ff70ab8",
   "metadata": {},
   "outputs": [
    {
     "data": {
      "text/plain": [
       "[['CC0222', 0, 0.7991904020309448],\n",
       " ['CC0236', 0, 0.7952978610992432],\n",
       " ['CC0181', 0, 0.7952671051025391],\n",
       " ['CC0219', 0, 0.7950671315193176],\n",
       " ['CC0204', 0, 0.7925722002983093],\n",
       " ['CC0226', 0, 0.7894681692123413],\n",
       " ['CC0199', 0, 0.7872225642204285]]"
      ]
     },
     "execution_count": 30,
     "metadata": {},
     "output_type": "execute_result"
    }
   ],
   "source": [
    "list(closest_2d['CC0243']['15'])[:7]"
   ]
  },
  {
   "cell_type": "markdown",
   "id": "e65a7128-81b3-4874-80fc-c390c50e3853",
   "metadata": {},
   "source": [
    "## 3D"
   ]
  },
  {
   "cell_type": "code",
   "execution_count": 38,
   "id": "366a1ee2-ef49-45d7-bcb8-bc0380ea96db",
   "metadata": {},
   "outputs": [],
   "source": [
    "path = '/path/exps/closest_scans/closest_scans_test_' + str(6) + '_3d.json'\n",
    "with open(path) as fp:\n",
    "    closest_3d = json.load(fp)"
   ]
  },
  {
   "cell_type": "code",
   "execution_count": 39,
   "id": "e741e8e1-c348-4914-a9ca-fc705cee8a45",
   "metadata": {},
   "outputs": [
    {
     "data": {
      "text/plain": [
       "[['CC0181', 0, 0.8067700686149819],\n",
       " ['CC0219', 0, 0.8047209330076395],\n",
       " ['CC0221', 0, 0.8046921737665353],\n",
       " ['CC0191', 0, 0.8031747906013976],\n",
       " ['CC0213', 0, 0.8026486472334973],\n",
       " ['CC0210', 0, 0.8011291844900265],\n",
       " ['CC0199', 0, 0.8009275679671487]]"
      ]
     },
     "execution_count": 39,
     "metadata": {},
     "output_type": "execute_result"
    }
   ],
   "source": [
    "list(closest_3d['CC0243']['10'])[:7]"
   ]
  },
  {
   "cell_type": "code",
   "execution_count": 40,
   "id": "b097490b-6e5e-4f5e-978d-393b3ca12049",
   "metadata": {},
   "outputs": [
    {
     "data": {
      "text/plain": [
       "[['CC0181', 0, 0.8067700686149819],\n",
       " ['CC0219', 0, 0.8047209330076395],\n",
       " ['CC0221', 0, 0.8046921737665353],\n",
       " ['CC0191', 0, 0.8031747906013976],\n",
       " ['CC0213', 0, 0.8026486472334973],\n",
       " ['CC0210', 0, 0.8011291844900265],\n",
       " ['CC0199', 0, 0.8009275679671487]]"
      ]
     },
     "execution_count": 40,
     "metadata": {},
     "output_type": "execute_result"
    }
   ],
   "source": [
    "list(closest_3d['CC0243']['15'])[:7]"
   ]
  },
  {
   "cell_type": "markdown",
   "id": "3df0e718-1497-4909-9d5d-152ca241be67",
   "metadata": {},
   "source": [
    "## 2.5D"
   ]
  },
  {
   "cell_type": "code",
   "execution_count": 43,
   "id": "61ee6da7-3dd3-4033-a9b4-0d90d8643dbd",
   "metadata": {},
   "outputs": [],
   "source": [
    "path = '/path/exps/closest_scans/closest_scans_test_' + str(6) + '_25d.json'\n",
    "with open(path) as fp:\n",
    "    closest_25d = json.load(fp)"
   ]
  },
  {
   "cell_type": "code",
   "execution_count": 44,
   "id": "c682f3d0-1668-4803-9c58-77d973daa237",
   "metadata": {},
   "outputs": [
    {
     "data": {
      "text/plain": [
       "[['CC0204', -2, 0.7964747548103333],\n",
       " ['CC0219', 0, 0.7949985861778259],\n",
       " ['CC0219', 1, 0.7927069067955017],\n",
       " ['CC0231', 0, 0.7910090088844299],\n",
       " ['CC0204', -1, 0.789961576461792],\n",
       " ['CC0222', 2, 0.7892383337020874],\n",
       " ['CC0231', 2, 0.7891520857810974]]"
      ]
     },
     "execution_count": 44,
     "metadata": {},
     "output_type": "execute_result"
    }
   ],
   "source": [
    "list(closest_25d['CC0243']['10'])[:7]"
   ]
  },
  {
   "cell_type": "code",
   "execution_count": 45,
   "id": "c6a2a810-eb73-4bcd-a360-26b65b43a1a9",
   "metadata": {},
   "outputs": [
    {
     "data": {
      "text/plain": [
       "[['CC0222', -1, 0.8012664914131165],\n",
       " ['CC0219', 1, 0.7992594838142395],\n",
       " ['CC0222', 0, 0.7991904020309448],\n",
       " ['CC0219', 2, 0.7979041934013367],\n",
       " ['CC0181', -1, 0.7967404127120972],\n",
       " ['CC0236', 0, 0.7952978610992432],\n",
       " ['CC0181', 0, 0.7952671051025391]]"
      ]
     },
     "execution_count": 45,
     "metadata": {},
     "output_type": "execute_result"
    }
   ],
   "source": [
    "list(closest_25d['CC0243']['15'])[:7]"
   ]
  },
  {
   "cell_type": "code",
   "execution_count": null,
   "id": "af16d2b7-dcab-4283-8d33-69ae24dba615",
   "metadata": {},
   "outputs": [],
   "source": []
  }
 ],
 "metadata": {
  "kernelspec": {
   "display_name": "Python 3 (ipykernel)",
   "language": "python",
   "name": "python3"
  },
  "language_info": {
   "codemirror_mode": {
    "name": "ipython",
    "version": 3
   },
   "file_extension": ".py",
   "mimetype": "text/x-python",
   "name": "python",
   "nbconvert_exporter": "python",
   "pygments_lexer": "ipython3",
   "version": "3.8.10"
  }
 },
 "nbformat": 4,
 "nbformat_minor": 5
}