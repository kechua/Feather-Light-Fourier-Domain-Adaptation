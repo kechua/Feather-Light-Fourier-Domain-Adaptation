{
 "cells": [
  {
   "cell_type": "code",
   "execution_count": 25,
   "id": "3793ba01-f08e-49b2-92d4-cec803dc7ab7",
   "metadata": {},
   "outputs": [],
   "source": [
    "import os\n",
    "from os.path import join as jp\n",
    "from itertools import product\n",
    "\n",
    "import pandas as pd\n",
    "import numpy as np\n",
    "import nibabel as nib\n",
    "from tqdm import tqdm_notebook as tqdm\n",
    "\n",
    "from dpipe.io import load\n",
    "from dpipe.im.visualize import slice3d"
   ]
  },
  {
   "cell_type": "code",
   "execution_count": 26,
   "id": "a5750e60-45b5-483e-ac0d-00ddcfbe4bd5",
   "metadata": {},
   "outputs": [],
   "source": [
    "img = 'images'\n",
    "msk = 'masks'\n",
    "root = '/path/cc359'\n",
    "\n",
    "path_img = jp(root, img)\n",
    "path_msk = jp(root, msk)\n",
    "\n",
    "fnames = sorted(os.listdir(path_img))\n",
    "\n",
    "cites = ('siemens', 'ge', 'philips')\n",
    "tsls = ('15', '3')"
   ]
  },
  {
   "cell_type": "code",
   "execution_count": 27,
   "id": "99cd0a3f-6bc2-4436-b55e-a1b077d07130",
   "metadata": {},
   "outputs": [],
   "source": [
    "pairs2fold = {p[1]: p[0] for p in list(enumerate(list(product(cites, tsls))))}"
   ]
  },
  {
   "cell_type": "code",
   "execution_count": 28,
   "id": "9744b196-509c-44d6-8506-169acbca7ece",
   "metadata": {},
   "outputs": [],
   "source": [
    "def fname2info(fname):\n",
    "    f = fname.strip('.nii.gz')\n",
    "    mask_fname = f + '_ss.nii.gz'\n",
    "    _id, cite, tsl, *_ = f.split('_')\n",
    "    return _id, cite, tsl, mask_fname"
   ]
  },
  {
   "cell_type": "code",
   "execution_count": 32,
   "id": "e4334510-ee18-4323-932a-3118609b3d6a",
   "metadata": {},
   "outputs": [
    {
     "name": "stderr",
     "output_type": "stream",
     "text": [
      "/tmp/ipykernel_45669/3068803342.py:2: TqdmDeprecationWarning: This function will be removed in tqdm==5.0.0\n",
      "Please use `tqdm.notebook.tqdm` instead of `tqdm.tqdm_notebook`\n",
      "  for fname in tqdm(fnames):\n"
     ]
    },
    {
     "data": {
      "application/vnd.jupyter.widget-view+json": {
       "model_id": "4cdce734166849feb163ca1a4203df42",
       "version_major": 2,
       "version_minor": 0
      },
      "text/plain": [
       "  0%|          | 0/359 [00:00<?, ?it/s]"
      ]
     },
     "metadata": {},
     "output_type": "display_data"
    },
    {
     "name": "stderr",
     "output_type": "stream",
     "text": [
      "/tmp/ipykernel_45669/3068803342.py:8: DeprecationWarning: get_data() is deprecated in favor of get_fdata(), which has a more predictable return type. To obtain get_data() behavior going forward, use numpy.asanyarray(img.dataobj).\n",
      "\n",
      "* deprecated from version: 3.0\n",
      "* Will raise <class 'nibabel.deprecator.ExpiredDeprecationError'> as of version: 5.0\n",
      "  scan = data.get_data()\n"
     ]
    }
   ],
   "source": [
    "records = []\n",
    "for fname in tqdm(fnames):\n",
    "    input_path = jp(path_img, fname)\n",
    "    data = nib.load(input_path)\n",
    "    _id, cite, tsl, mask_fname = fname2info(fname)\n",
    "    data = nib.load(input_path)\n",
    "    vs = data.header['pixdim'][1:4]\n",
    "    scan = data.get_data()    \n",
    "    shape = scan.shape\n",
    "    record = {\n",
    "        'id': _id,\n",
    "        'MRI': jp(img, fname),\n",
    "        'brain_mask': jp(msk, mask_fname),\n",
    "        'fold': pairs2fold[(cite, tsl)],\n",
    "        'tomograph_model': cite,\n",
    "        'tesla_value': tsl,\n",
    "        'x': vs[0],\n",
    "        'y': vs[1],\n",
    "        'z': vs[2],\n",
    "        'shape': shape,\n",
    "        # 'shape:': str(shape[0]) + ', ' + str(shape[1]) + ', ' + str(shape[2]),\n",
    "    }\n",
    "    records.append(record)\n",
    "    \n",
    "meta = pd.DataFrame.from_records(records, index='id')\n",
    "meta.to_csv(jp(root, 'meta.csv'), index_label='id')"
   ]
  },
  {
   "cell_type": "code",
   "execution_count": 16,
   "id": "c37297e6-0ac8-4754-9bcf-8a65329b1063",
   "metadata": {},
   "outputs": [
    {
     "name": "stderr",
     "output_type": "stream",
     "text": [
      "/tmp/ipykernel_45669/1045731120.py:1: DeprecationWarning: get_data() is deprecated in favor of get_fdata(), which has a more predictable return type. To obtain get_data() behavior going forward, use numpy.asanyarray(img.dataobj).\n",
      "\n",
      "* deprecated from version: 3.0\n",
      "* Will raise <class 'nibabel.deprecator.ExpiredDeprecationError'> as of version: 5.0\n",
      "  img = data.get_data()\n"
     ]
    }
   ],
   "source": [
    "img = data.get_data()"
   ]
  },
  {
   "cell_type": "code",
   "execution_count": 17,
   "id": "b72b005d-634a-43e6-a1c9-8bb5e1e5ed22",
   "metadata": {},
   "outputs": [
    {
     "data": {
      "text/plain": [
       "(182, 218, 182)"
      ]
     },
     "execution_count": 17,
     "metadata": {},
     "output_type": "execute_result"
    }
   ],
   "source": [
    "img.shape"
   ]
  },
  {
   "cell_type": "code",
   "execution_count": null,
   "id": "d056f54e-b4a4-4131-830f-ec59d30866fc",
   "metadata": {},
   "outputs": [],
   "source": []
  }
 ],
 "metadata": {
  "kernelspec": {
   "display_name": "Python 3 (ipykernel)",
   "language": "python",
   "name": "python3"
  },
  "language_info": {
   "codemirror_mode": {
    "name": "ipython",
    "version": 3
   },
   "file_extension": ".py",
   "mimetype": "text/x-python",
   "name": "python",
   "nbconvert_exporter": "python",
   "pygments_lexer": "ipython3",
   "version": "3.8.10"
  }
 },
 "nbformat": 4,
 "nbformat_minor": 5
}